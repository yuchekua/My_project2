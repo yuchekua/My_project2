{
 "cells": [
  {
   "cell_type": "code",
   "execution_count": 1,
   "metadata": {},
   "outputs": [],
   "source": [
    "import numpy as np\n",
    "from sklearn.model_selection import train_test_split\n",
    "# Load the data\n",
    "data = np.loadtxt('auto-mpg.csv', delimiter=',')\n",
    "y = data[:,0]\n",
    "x = data[:,1:8]\n",
    "# Split into training and test+\n",
    "X_train, X_test, y_train, y_test = train_test_split(x, y, test_size=0.5, random_state=891)"
   ]
  },
  {
   "cell_type": "code",
   "execution_count": 2,
   "metadata": {},
   "outputs": [],
   "source": [
    "# Train model\n",
    "from sklearn import linear_model\n",
    "reg = linear_model.LinearRegression()\n",
    "reg.fit(X_train,y_train)\n",
    "y_pred_train = reg.predict(X_train)\n",
    "# Predict test set\n",
    "y_pred = reg.predict(X_test)"
   ]
  },
  {
   "cell_type": "code",
   "execution_count": 3,
   "metadata": {},
   "outputs": [
    {
     "data": {
      "text/plain": [
       "Text(0, 0.5, 'Predicted values for y')"
      ]
     },
     "execution_count": 3,
     "metadata": {},
     "output_type": "execute_result"
    },
    {
     "data": {
      "image/png": "[encoded data removed]",
      "text/plain": [
       "<Figure size 432x288 with 1 Axes>"
      ]
     },
     "metadata": {
      "needs_background": "light"
     },
     "output_type": "display_data"
    }
   ],
   "source": [
    "# Comparing true versus predicted values\n",
    "%matplotlib inline\n",
    "import numpy as np\n",
    "import matplotlib.pyplot as plt\n",
    "\n",
    "plt.scatter(y_test, y_pred, color='black')\n",
    "plt.title('Comparing true and predicted values for test set')\n",
    "plt.xlabel('True values for y')\n",
    "plt.ylabel('Predicted values for y')"
   ]
  },
  {
   "cell_type": "code",
   "execution_count": 4,
   "metadata": {},
   "outputs": [
    {
     "name": "stdout",
     "output_type": "stream",
     "text": [
      "Root mean squared error = 3.4561\n",
      "R-squared = 0.8069\n"
     ]
    }
   ],
   "source": [
    "from sklearn.metrics import mean_squared_error, r2_score\n",
    "\n",
    "# Model evaluation\n",
    "print(\"Root mean squared error = %.4f\" % np.sqrt(mean_squared_error(y_test, y_pred)))\n",
    "print('R-squared = %.4f' % r2_score(y_test, y_pred))"
   ]
  },
  {
   "cell_type": "code",
   "execution_count": 5,
   "metadata": {},
   "outputs": [
    {
     "name": "stdout",
     "output_type": "stream",
     "text": [
      "Slope =  [-0.65834328  0.01405478 -0.0237873  -0.00567093 -0.05662719  0.72666556\n",
      "  0.74193786]\n",
      "Intercept =  -11.890123760266874\n"
     ]
    },
    {
     "data": {
      "text/html": [
       "<div>\n",
       "<style scoped>\n",
       "    .dataframe tbody tr th:only-of-type {\n",
       "        vertical-align: middle;\n",
       "    }\n",
       "\n",
       "    .dataframe tbody tr th {\n",
       "        vertical-align: top;\n",
       "    }\n",
       "\n",
       "    .dataframe thead th {\n",
       "        text-align: right;\n",
       "    }\n",
       "</style>\n",
       "<table border=\"1\" class=\"dataframe\">\n",
       "  <thead>\n",
       "    <tr style=\"text-align: right;\">\n",
       "      <th></th>\n",
       "      <th>Train error</th>\n",
       "      <th>Test error</th>\n",
       "      <th>Sum of Absolute Weights</th>\n",
       "    </tr>\n",
       "  </thead>\n",
       "  <tbody>\n",
       "    <tr>\n",
       "      <td>MLR</td>\n",
       "      <td>3.210281</td>\n",
       "      <td>3.456058</td>\n",
       "      <td>14.117211</td>\n",
       "    </tr>\n",
       "  </tbody>\n",
       "</table>\n",
       "</div>"
      ],
      "text/plain": [
       "     Train error  Test error  Sum of Absolute Weights\n",
       "MLR     3.210281    3.456058                14.117211"
      ]
     },
     "execution_count": 5,
     "metadata": {},
     "output_type": "execute_result"
    }
   ],
   "source": [
    "# Display model parameters\n",
    "import pandas as pd\n",
    "print('Slope = ', reg.coef_)\n",
    "print('Intercept = ', reg.intercept_)\n",
    "\n",
    "### Step 4: Postprocessing\n",
    "columns = ['Train error', 'Test error', 'Sum of Absolute Weights']\n",
    "values1 = [ np.sqrt(mean_squared_error(y_train, y_pred_train)), \n",
    "           np.sqrt(mean_squared_error(y_test, y_pred)),\n",
    "           np.absolute(reg.coef_).sum() + np.absolute(reg.intercept_)]\n",
    "results = pd.DataFrame([values1], columns=columns, index=['MLR'])\n",
    "results"
   ]
  },
  {
   "cell_type": "code",
   "execution_count": 6,
   "metadata": {},
   "outputs": [
    {
     "name": "stdout",
     "output_type": "stream",
     "text": [
      "[-0.65183737  0.0139174  -0.0236812  -0.0056743  -0.05646149  0.72650549\n",
      "  0.73621476]\n",
      "11.948494405035541\n"
     ]
    }
   ],
   "source": [
    "from sklearn import linear_model\n",
    "# Train model\n",
    "reg = linear_model.Ridge (alpha = .5)\n",
    "reg.fit(X_train,y_train)\n",
    "# View coefficients\n",
    "print(reg.coef_)\n",
    "from sklearn.metrics import mean_squared_error\n",
    "# Predict test set\n",
    "y_pred = reg.predict(X_test)\n",
    "print(mean_squared_error(y_test,y_pred))"
   ]
  },
  {
   "cell_type": "code",
   "execution_count": 7,
   "metadata": {},
   "outputs": [
    {
     "name": "stdout",
     "output_type": "stream",
     "text": [
      "Selected alpha = 1.40\n"
     ]
    },
    {
     "data": {
      "text/html": [
       "<div>\n",
       "<style scoped>\n",
       "    .dataframe tbody tr th:only-of-type {\n",
       "        vertical-align: middle;\n",
       "    }\n",
       "\n",
       "    .dataframe tbody tr th {\n",
       "        vertical-align: top;\n",
       "    }\n",
       "\n",
       "    .dataframe thead th {\n",
       "        text-align: right;\n",
       "    }\n",
       "</style>\n",
       "<table border=\"1\" class=\"dataframe\">\n",
       "  <thead>\n",
       "    <tr style=\"text-align: right;\">\n",
       "      <th></th>\n",
       "      <th>Train error</th>\n",
       "      <th>Test error</th>\n",
       "      <th>Sum of Absolute Weights</th>\n",
       "    </tr>\n",
       "  </thead>\n",
       "  <tbody>\n",
       "    <tr>\n",
       "      <td>MLR</td>\n",
       "      <td>3.210281</td>\n",
       "      <td>3.456058</td>\n",
       "      <td>14.117211</td>\n",
       "    </tr>\n",
       "    <tr>\n",
       "      <td>RidgeCV</td>\n",
       "      <td>3.210307</td>\n",
       "      <td>3.457736</td>\n",
       "      <td>14.057690</td>\n",
       "    </tr>\n",
       "  </tbody>\n",
       "</table>\n",
       "</div>"
      ],
      "text/plain": [
       "         Train error  Test error  Sum of Absolute Weights\n",
       "MLR         3.210281    3.456058                14.117211\n",
       "RidgeCV     3.210307    3.457736                14.057690"
      ]
     },
     "execution_count": 7,
     "metadata": {},
     "output_type": "execute_result"
    }
   ],
   "source": [
    "from sklearn import linear_model\n",
    "import pandas as pd\n",
    "\n",
    "ridge = linear_model.RidgeCV(alphas=[0.2, 0.4, 0.6, 0.8, 1.0, 1.2, 1.4])\n",
    "ridge.fit(X_train, y_train)\n",
    "y_pred_train_ridge = ridge.predict(X_train)\n",
    "y_pred_test_ridge = ridge.predict(X_test)\n",
    "\n",
    "values6 = [ np.sqrt(mean_squared_error(y_train, y_pred_train_ridge)), \n",
    "           np.sqrt(mean_squared_error(y_test, y_pred_test_ridge)),\n",
    "           np.absolute(ridge.coef_).sum() + np.absolute(ridge.intercept_)]\n",
    "print(\"Selected alpha = %.2f\" % ridge.alpha_)\n",
    "columns = ['Train error', 'Test error', 'Sum of Absolute Weights']\n",
    "ridge_results = pd.DataFrame([values6], columns=columns, index=['RidgeCV'])\n",
    "pd.concat([results, ridge_results])\n"
   ]
  },
  {
   "cell_type": "code",
   "execution_count": 8,
   "metadata": {},
   "outputs": [
    {
     "name": "stdout",
     "output_type": "stream",
     "text": [
      "Selected alpha = 1.00\n"
     ]
    },
    {
     "data": {
      "text/html": [
       "<div>\n",
       "<style scoped>\n",
       "    .dataframe tbody tr th:only-of-type {\n",
       "        vertical-align: middle;\n",
       "    }\n",
       "\n",
       "    .dataframe tbody tr th {\n",
       "        vertical-align: top;\n",
       "    }\n",
       "\n",
       "    .dataframe thead th {\n",
       "        text-align: right;\n",
       "    }\n",
       "</style>\n",
       "<table border=\"1\" class=\"dataframe\">\n",
       "  <thead>\n",
       "    <tr style=\"text-align: right;\">\n",
       "      <th></th>\n",
       "      <th>Train error</th>\n",
       "      <th>Test error</th>\n",
       "      <th>Sum of Absolute Weights</th>\n",
       "    </tr>\n",
       "  </thead>\n",
       "  <tbody>\n",
       "    <tr>\n",
       "      <td>MLR</td>\n",
       "      <td>3.210281</td>\n",
       "      <td>3.456058</td>\n",
       "      <td>14.117211</td>\n",
       "    </tr>\n",
       "    <tr>\n",
       "      <td>RidgeCV</td>\n",
       "      <td>3.210307</td>\n",
       "      <td>3.457736</td>\n",
       "      <td>14.057690</td>\n",
       "    </tr>\n",
       "    <tr>\n",
       "      <td>LassoCV</td>\n",
       "      <td>3.269057</td>\n",
       "      <td>3.594123</td>\n",
       "      <td>6.807612</td>\n",
       "    </tr>\n",
       "  </tbody>\n",
       "</table>\n",
       "</div>"
      ],
      "text/plain": [
       "         Train error  Test error  Sum of Absolute Weights\n",
       "MLR         3.210281    3.456058                14.117211\n",
       "RidgeCV     3.210307    3.457736                14.057690\n",
       "LassoCV     3.269057    3.594123                 6.807612"
      ]
     },
     "execution_count": 8,
     "metadata": {},
     "output_type": "execute_result"
    }
   ],
   "source": [
    "from sklearn import linear_model\n",
    "\n",
    "lasso = linear_model.LassoCV(cv=5, alphas=[0.01, 0.02, 0.05, 0.1, 0.3, 0.5, 1.0, 1.2, 1.4])\n",
    "lasso.fit(X_train, y_train.reshape(y_train.shape[0]))\n",
    "y_pred_train_lasso = lasso.predict(X_train)\n",
    "y_pred_test_lasso = lasso.predict(X_test)\n",
    "\n",
    "values7 = [np.sqrt(mean_squared_error(y_train, y_pred_train_lasso)), \n",
    "           np.sqrt(mean_squared_error(y_test, y_pred_test_lasso)),\n",
    "           np.absolute(lasso.coef_).sum() + np.absolute(lasso.intercept_)]\n",
    "print(\"Selected alpha = %.2f\" % lasso.alpha_)\n",
    "\n",
    "lasso_results = pd.DataFrame([values7], columns=columns, index=['LassoCV'])\n",
    "pd.concat([results, ridge_results,lasso_results])"
   ]
  },
  {
   "cell_type": "code",
   "execution_count": 9,
   "metadata": {},
   "outputs": [
    {
     "name": "stdout",
     "output_type": "stream",
     "text": [
      "Root mean squared error = 3.5373\n",
      "R-squared = 0.7977\n"
     ]
    },
    {
     "data": {
      "text/plain": [
       "Text(0, 0.5, 'Predicted values for y')"
      ]
     },
     "execution_count": 9,
     "metadata": {},
     "output_type": "execute_result"
    },
    {
     "data": {
      "image/png": "[encoded data removed]",
      "text/plain": [
       "<Figure size 432x288 with 1 Axes>"
      ]
     },
     "metadata": {
      "needs_background": "light"
     },
     "output_type": "display_data"
    }
   ],
   "source": [
    "# Fit regression model with Kernel ridge\n",
    "from sklearn.kernel_ridge import KernelRidge\n",
    "reg = KernelRidge(alpha=1.0)\n",
    "\n",
    "reg.fit(X_train, y_train)\n",
    "y_pred = reg.predict(X_test)\n",
    "print(\"Root mean squared error = %.4f\" % np.sqrt(mean_squared_error(y_test, y_pred)))\n",
    "print('R-squared = %.4f' % r2_score(y_test, y_pred))\n",
    "plt.scatter(y_test, y_pred, color='black')\n",
    "plt.title('Comparing true and predicted values for test set')\n",
    "plt.xlabel('True values for y')\n",
    "plt.ylabel('Predicted values for y')"
   ]
  },
  {
   "cell_type": "code",
   "execution_count": 10,
   "metadata": {},
   "outputs": [
    {
     "name": "stdout",
     "output_type": "stream",
     "text": [
      "Root mean squared error = 39.8066\n",
      "R-squared = -24.6193\n"
     ]
    },
    {
     "data": {
      "text/plain": [
       "Text(0, 0.5, 'Predicted values for y')"
      ]
     },
     "execution_count": 10,
     "metadata": {},
     "output_type": "execute_result"
    },
    {
     "data": {
      "image/png": "[encoded data removed]",
      "text/plain": [
       "<Figure size 432x288 with 1 Axes>"
      ]
     },
     "metadata": {
      "needs_background": "light"
     },
     "output_type": "display_data"
    }
   ],
   "source": [
    "# Fit regression model with ANN\n",
    "from sklearn.neural_network import MLPRegressor\n",
    "reg = MLPRegressor()\n",
    "reg.fit(X_train, y_train)\n",
    "y_pred = reg.predict(X_test)\n",
    "print(\"Root mean squared error = %.4f\" % np.sqrt(mean_squared_error(y_test, y_pred)))\n",
    "print('R-squared = %.4f' % r2_score(y_test, y_pred))\n",
    "plt.scatter(y_test, y_pred, color='black')\n",
    "plt.title('Comparing true and predicted values for test set')\n",
    "plt.xlabel('True values for y')\n",
    "plt.ylabel('Predicted values for y')"
   ]
  },
  {
   "cell_type": "code",
   "execution_count": 11,
   "metadata": {},
   "outputs": [
    {
     "name": "stdout",
     "output_type": "stream",
     "text": [
      "Root mean squared error = 4.6337\n",
      "R-squared = 0.6529\n"
     ]
    },
    {
     "data": {
      "text/plain": [
       "Text(0, 0.5, 'Predicted values for y')"
      ]
     },
     "execution_count": 11,
     "metadata": {},
     "output_type": "execute_result"
    },
    {
     "data": {
      "image/png": "[encoded data removed]",
      "text/plain": [
       "<Figure size 432x288 with 1 Axes>"
      ]
     },
     "metadata": {
      "needs_background": "light"
     },
     "output_type": "display_data"
    }
   ],
   "source": [
    "# Fit regression model with SVR\n",
    "from sklearn.svm import SVR\n",
    "reg = SVR(gamma='scale', C=1.0, epsilon=0.2)\n",
    "reg.fit(X_train, y_train)\n",
    "y_pred = reg.predict(X_test)\n",
    "print(\"Root mean squared error = %.4f\" % np.sqrt(mean_squared_error(y_test, y_pred)))\n",
    "print('R-squared = %.4f' % r2_score(y_test, y_pred))\n",
    "plt.scatter(y_test, y_pred, color='black')\n",
    "plt.title('Comparing true and predicted values for test set')\n",
    "plt.xlabel('True values for y')\n",
    "plt.ylabel('Predicted values for y')"
   ]
  },
  {
   "cell_type": "code",
   "execution_count": 13,
   "metadata": {},
   "outputs": [
    {
     "name": "stdout",
     "output_type": "stream",
     "text": [
      "Root mean squared error = 3.5019\n",
      "R-squared = 0.8017\n"
     ]
    },
    {
     "data": {
      "text/plain": [
       "Text(0, 0.5, 'Predicted values for y')"
      ]
     },
     "execution_count": 13,
     "metadata": {},
     "output_type": "execute_result"
    },
    {
     "data": {
      "image/png": "[encoded data removed]",
      "text/plain": [
       "<Figure size 432x288 with 1 Axes>"
      ]
     },
     "metadata": {
      "needs_background": "light"
     },
     "output_type": "display_data"
    }
   ],
   "source": [
    "# Fit regression model with SVR linear kernel\n",
    "from sklearn.svm import SVR\n",
    "reg = SVR(kernel='linear', C=0.2, gamma='scale')\n",
    "reg.fit(X_train, y_train)\n",
    "y_pred = reg.predict(X_test)\n",
    "print(\"Root mean squared error = %.4f\" % np.sqrt(mean_squared_error(y_test, y_pred)))\n",
    "print('R-squared = %.4f' % r2_score(y_test, y_pred))\n",
    "plt.scatter(y_test, y_pred, color='black')\n",
    "plt.title('Comparing true and predicted values for test set')\n",
    "plt.xlabel('True values for y')\n",
    "plt.ylabel('Predicted values for y')"
   ]
  },
  {
   "cell_type": "code",
   "execution_count": null,
   "metadata": {},
   "outputs": [],
   "source": [
    "\n"
   ]
  },
  {
   "cell_type": "code",
   "execution_count": null,
   "metadata": {},
   "outputs": [],
   "source": []
  }
 ],
 "metadata": {
  "kernelspec": {
   "display_name": "Python 3",
   "language": "python",
   "name": "python3"
  },
  "language_info": {
   "codemirror_mode": {
    "name": "ipython",
    "version": 3
   },
   "file_extension": ".py",
   "mimetype": "text/x-python",
   "name": "python",
   "nbconvert_exporter": "python",
   "pygments_lexer": "ipython3",
   "version": "3.7.4"
  }
 },
 "nbformat": 4,
 "nbformat_minor": 2
}
